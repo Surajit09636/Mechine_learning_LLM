{
  "cells": [
    {
      "cell_type": "code",
      "execution_count": 1,
      "metadata": {
        "colab": {
          "base_uri": "https://localhost:8080/"
        },
        "id": "ZDx4gSEPCRpd",
        "outputId": "300c7f61-a33f-426e-cdbc-4d136d97c546"
      },
      "outputs": [
        {
          "name": "stdout",
          "output_type": "stream",
          "text": [
            "---\n",
            "The original version of the 🫩🙌 algorithm focused on compression. It replaces the highest-frequency pair of bytes with a new byte that was not contained in the initial dataset. A lookup table of the replacements is required to rebuild the initial dataset. The modified version builds tokens (units of recognition) that match varying amounts of source text, from single characters (including single digits or single punctuation marks) to whole words (even long compound words).\n",
            "Text: 475\n",
            "---\n",
            "[84, 104, 101, 32, 111, 114, 105, 103, 105, 110, 97, 108, 32, 118, 101, 114, 115, 105, 111, 110, 32, 111, 102, 32, 116, 104, 101, 32, 240, 159, 171, 169, 240, 159, 153, 140, 32, 97, 108, 103, 111, 114, 105, 116, 104, 109, 32, 102, 111, 99, 117, 115, 101, 100, 32, 111, 110, 32, 99, 111, 109, 112, 114, 101, 115, 115, 105, 111, 110, 46, 32, 73, 116, 32, 114, 101, 112, 108, 97, 99, 101, 115, 32, 116, 104, 101, 32, 104, 105, 103, 104, 101, 115, 116, 45, 102, 114, 101, 113, 117, 101, 110, 99, 121, 32, 112, 97, 105, 114, 32, 111, 102, 32, 98, 121, 116, 101, 115, 32, 119, 105, 116, 104, 32, 97, 32, 110, 101, 119, 32, 98, 121, 116, 101, 32, 116, 104, 97, 116, 32, 119, 97, 115, 32, 110, 111, 116, 32, 99, 111, 110, 116, 97, 105, 110, 101, 100, 32, 105, 110, 32, 116, 104, 101, 32, 105, 110, 105, 116, 105, 97, 108, 32, 100, 97, 116, 97, 115, 101, 116, 46, 32, 65, 32, 108, 111, 111, 107, 117, 112, 32, 116, 97, 98, 108, 101, 32, 111, 102, 32, 116, 104, 101, 32, 114, 101, 112, 108, 97, 99, 101, 109, 101, 110, 116, 115, 32, 105, 115, 32, 114, 101, 113, 117, 105, 114, 101, 100, 32, 116, 111, 32, 114, 101, 98, 117, 105, 108, 100, 32, 116, 104, 101, 32, 105, 110, 105, 116, 105, 97, 108, 32, 100, 97, 116, 97, 115, 101, 116, 46, 32, 84, 104, 101, 32, 109, 111, 100, 105, 102, 105, 101, 100, 32, 118, 101, 114, 115, 105, 111, 110, 32, 98, 117, 105, 108, 100, 115, 32, 116, 111, 107, 101, 110, 115, 32, 40, 117, 110, 105, 116, 115, 32, 111, 102, 32, 114, 101, 99, 111, 103, 110, 105, 116, 105, 111, 110, 41, 32, 116, 104, 97, 116, 32, 109, 97, 116, 99, 104, 32, 118, 97, 114, 121, 105, 110, 103, 32, 97, 109, 111, 117, 110, 116, 115, 32, 111, 102, 32, 115, 111, 117, 114, 99, 101, 32, 116, 101, 120, 116, 44, 32, 102, 114, 111, 109, 32, 115, 105, 110, 103, 108, 101, 32, 99, 104, 97, 114, 97, 99, 116, 101, 114, 115, 32, 40, 105, 110, 99, 108, 117, 100, 105, 110, 103, 32, 115, 105, 110, 103, 108, 101, 32, 100, 105, 103, 105, 116, 115, 32, 111, 114, 32, 115, 105, 110, 103, 108, 101, 32, 112, 117, 110, 99, 116, 117, 97, 116, 105, 111, 110, 32, 109, 97, 114, 107, 115, 41, 32, 116, 111, 32, 119, 104, 111, 108, 101, 32, 119, 111, 114, 100, 115, 32, 40, 101, 118, 101, 110, 32, 108, 111, 110, 103, 32, 99, 111, 109, 112, 111, 117, 110, 100, 32, 119, 111, 114, 100, 115, 41, 46]\n",
            "Tokens: 481\n"
          ]
        }
      ],
      "source": [
        "text = \"The original version of the 🫩🙌 algorithm focused on compression. It replaces the highest-frequency pair of bytes with a new byte that was not contained in the initial dataset. A lookup table of the replacements is required to rebuild the initial dataset. The modified version builds tokens (units of recognition) that match varying amounts of source text, from single characters (including single digits or single punctuation marks) to whole words (even long compound words).\"\n",
        "tokens = text.encode(\"utf-8\")\n",
        "tokens = list(map(int, tokens))\n",
        "print('---')\n",
        "print(text)\n",
        "print(\"Text:\", len(text))\n",
        "print('---')\n",
        "print(tokens)\n",
        "print(\"Tokens:\", len(tokens))"
      ]
    },
    {
      "cell_type": "code",
      "execution_count": 2,
      "metadata": {
        "colab": {
          "base_uri": "https://localhost:8080/"
        },
        "id": "HDR6r9vQFe-h",
        "outputId": "70bd4aee-0f63-4160-f538-a53637d172aa"
      },
      "outputs": [
        {
          "name": "stdout",
          "output_type": "stream",
          "text": [
            "[(14, (101, 32)), (12, (115, 32)), (12, (32, 116)), (11, (105, 110)), (9, (116, 104)), (8, (114, 101)), (8, (111, 110)), (8, (104, 101)), (8, (32, 111)), (7, (105, 116)), (6, (115, 105)), (6, (110, 103)), (6, (110, 32)), (6, (100, 32)), (6, (97, 116)), (5, (111, 114)), (5, (111, 102)), (5, (108, 101)), (5, (105, 111)), (5, (102, 32)), (5, (32, 119)), (5, (32, 114)), (4, (117, 110)), (4, (116, 115)), (4, (116, 105)), (4, (116, 101)), (4, (116, 97)), (4, (116, 32)), (4, (110, 105)), (4, (101, 115)), (4, (101, 110)), (4, (101, 100)), (4, (99, 111)), (4, (97, 108)), (4, (32, 115)), (4, (32, 105)), (4, (32, 99)), (3, (118, 101)), (3, (117, 105)), (3, (116, 111)), (3, (115, 101)), (3, (114, 115)), (3, (111, 117)), (3, (111, 109)), (3, (110, 116)), (3, (110, 99)), (3, (108, 32)), (3, (105, 103)), (3, (104, 97)), (3, (103, 108)), (3, (103, 32)), (3, (101, 114)), (3, (100, 115)), (3, (100, 105)), (3, (99, 101)), (3, (97, 115)), (3, (97, 114)), (3, (97, 99)), (3, (46, 32)), (3, (32, 118)), (3, (32, 109)), (3, (32, 100)), (3, (32, 98)), (3, (32, 97)), (3, (32, 40)), (2, (240, 159)), (2, (121, 116)), (2, (119, 111)), (2, (116, 46)), (2, (115, 41)), (2, (114, 105)), (2, (114, 100)), (2, (114, 32)), (2, (113, 117)), (2, (112, 108)), (2, (111, 107)), (2, (111, 32)), (2, (110, 101)), (2, (109, 112)), (2, (109, 111)), (2, (109, 97)), (2, (109, 32)), (2, (108, 111)), (2, (108, 100)), (2, (108, 97)), (2, (105, 114)), (2, (105, 108)), (2, (105, 97)), (2, (104, 32)), (2, (103, 105)), (2, (102, 114)), (2, (101, 116)), (2, (101, 113)), (2, (101, 112)), (2, (100, 97)), (2, (99, 116)), (2, (99, 104)), (2, (98, 121)), (2, (98, 117)), (2, (97, 105)), (2, (84, 104)), (2, (41, 32)), (2, (32, 112)), (2, (32, 110)), (2, (32, 108)), (2, (32, 102)), (1, (171, 169)), (1, (169, 240)), (1, (159, 171)), (1, (159, 153)), (1, (153, 140)), (1, (140, 32)), (1, (121, 105)), (1, (121, 32)), (1, (120, 116)), (1, (119, 105)), (1, (119, 104)), (1, (119, 97)), (1, (119, 32)), (1, (118, 97)), (1, (117, 115)), (1, (117, 114)), (1, (117, 112)), (1, (117, 101)), (1, (117, 100)), (1, (117, 97)), (1, (116, 117)), (1, (116, 99)), (1, (116, 45)), (1, (116, 44)), (1, (115, 116)), (1, (115, 115)), (1, (115, 111)), (1, (114, 121)), (1, (114, 111)), (1, (114, 107)), (1, (114, 99)), (1, (114, 97)), (1, (112, 117)), (1, (112, 114)), (1, (112, 111)), (1, (112, 97)), (1, (112, 32)), (1, (111, 116)), (1, (111, 111)), (1, (111, 108)), (1, (111, 103)), (1, (111, 100)), (1, (111, 99)), (1, (110, 115)), (1, (110, 111)), (1, (110, 100)), (1, (110, 97)), (1, (110, 46)), (1, (110, 41)), (1, (109, 101)), (1, (108, 117)), (1, (108, 103)), (1, (107, 117)), (1, (107, 115)), (1, (107, 101)), (1, (105, 115)), (1, (105, 102)), (1, (105, 101)), (1, (104, 111)), (1, (104, 109)), (1, (104, 105)), (1, (103, 111)), (1, (103, 110)), (1, (103, 104)), (1, (102, 111)), (1, (102, 105)), (1, (101, 120)), (1, (101, 119)), (1, (101, 118)), (1, (101, 109)), (1, (101, 99)), (1, (101, 98)), (1, (99, 121)), (1, (99, 117)), (1, (99, 108)), (1, (98, 108)), (1, (97, 109)), (1, (97, 98)), (1, (97, 32)), (1, (73, 116)), (1, (65, 32)), (1, (45, 102)), (1, (44, 32)), (1, (41, 46)), (1, (40, 117)), (1, (40, 105)), (1, (40, 101)), (1, (32, 240)), (1, (32, 104)), (1, (32, 84)), (1, (32, 73)), (1, (32, 65))]\n"
          ]
        }
      ],
      "source": [
        "def get_stats(ids):\n",
        "  counts = {}\n",
        "  for pair in zip(ids, ids[1:]):\n",
        "    counts[pair] = counts.get(pair, 0) + 1\n",
        "  return counts\n",
        "\n",
        "stats = get_stats(tokens)\n",
        "#print(stats)\n",
        "sorted_stats = sorted((v, k) for k, v in stats.items())\n",
        "sorted_stats.reverse()\n",
        "print(sorted_stats)"
      ]
    },
    {
      "cell_type": "code",
      "execution_count": 3,
      "metadata": {},
      "outputs": [
        {
          "data": {
            "text/plain": [
              "(101, 32)"
            ]
          },
          "execution_count": 3,
          "metadata": {},
          "output_type": "execute_result"
        }
      ],
      "source": [
        "top_pair = max(stats, key=stats.get)\n",
        "top_pair "
      ]
    },
    {
      "cell_type": "code",
      "execution_count": 4,
      "metadata": {},
      "outputs": [
        {
          "name": "stdout",
          "output_type": "stream",
          "text": [
            "[5, 6, 99, 9, 1]\n",
            "[84, 104, 256, 111, 114, 105, 103, 105, 110, 97, 108, 32, 118, 101, 114, 115, 105, 111, 110, 32, 111, 102, 32, 116, 104, 256, 240, 159, 171, 169, 240, 159, 153, 140, 32, 97, 108, 103, 111, 114, 105, 116, 104, 109, 32, 102, 111, 99, 117, 115, 101, 100, 32, 111, 110, 32, 99, 111, 109, 112, 114, 101, 115, 115, 105, 111, 110, 46, 32, 73, 116, 32, 114, 101, 112, 108, 97, 99, 101, 115, 32, 116, 104, 256, 104, 105, 103, 104, 101, 115, 116, 45, 102, 114, 101, 113, 117, 101, 110, 99, 121, 32, 112, 97, 105, 114, 32, 111, 102, 32, 98, 121, 116, 101, 115, 32, 119, 105, 116, 104, 32, 97, 32, 110, 101, 119, 32, 98, 121, 116, 256, 116, 104, 97, 116, 32, 119, 97, 115, 32, 110, 111, 116, 32, 99, 111, 110, 116, 97, 105, 110, 101, 100, 32, 105, 110, 32, 116, 104, 256, 105, 110, 105, 116, 105, 97, 108, 32, 100, 97, 116, 97, 115, 101, 116, 46, 32, 65, 32, 108, 111, 111, 107, 117, 112, 32, 116, 97, 98, 108, 256, 111, 102, 32, 116, 104, 256, 114, 101, 112, 108, 97, 99, 101, 109, 101, 110, 116, 115, 32, 105, 115, 32, 114, 101, 113, 117, 105, 114, 101, 100, 32, 116, 111, 32, 114, 101, 98, 117, 105, 108, 100, 32, 116, 104, 256, 105, 110, 105, 116, 105, 97, 108, 32, 100, 97, 116, 97, 115, 101, 116, 46, 32, 84, 104, 256, 109, 111, 100, 105, 102, 105, 101, 100, 32, 118, 101, 114, 115, 105, 111, 110, 32, 98, 117, 105, 108, 100, 115, 32, 116, 111, 107, 101, 110, 115, 32, 40, 117, 110, 105, 116, 115, 32, 111, 102, 32, 114, 101, 99, 111, 103, 110, 105, 116, 105, 111, 110, 41, 32, 116, 104, 97, 116, 32, 109, 97, 116, 99, 104, 32, 118, 97, 114, 121, 105, 110, 103, 32, 97, 109, 111, 117, 110, 116, 115, 32, 111, 102, 32, 115, 111, 117, 114, 99, 256, 116, 101, 120, 116, 44, 32, 102, 114, 111, 109, 32, 115, 105, 110, 103, 108, 256, 99, 104, 97, 114, 97, 99, 116, 101, 114, 115, 32, 40, 105, 110, 99, 108, 117, 100, 105, 110, 103, 32, 115, 105, 110, 103, 108, 256, 100, 105, 103, 105, 116, 115, 32, 111, 114, 32, 115, 105, 110, 103, 108, 256, 112, 117, 110, 99, 116, 117, 97, 116, 105, 111, 110, 32, 109, 97, 114, 107, 115, 41, 32, 116, 111, 32, 119, 104, 111, 108, 256, 119, 111, 114, 100, 115, 32, 40, 101, 118, 101, 110, 32, 108, 111, 110, 103, 32, 99, 111, 109, 112, 111, 117, 110, 100, 32, 119, 111, 114, 100, 115, 41, 46]\n",
            "length: 467\n"
          ]
        }
      ],
      "source": [
        "def merge(ids, pair, idx):\n",
        "    newids = []\n",
        "    i = 0\n",
        "    while i < len(ids):\n",
        "        if i < len(ids) - 1 and ids[i] == pair[0] and ids[i+1] == pair[1]:\n",
        "            newids.append(idx)\n",
        "            i += 2\n",
        "        else:\n",
        "            newids.append(ids[i])\n",
        "            i += 1\n",
        "    return newids\n",
        "\n",
        "print(merge([5,6,6,7,9,1], (6,7), 99))\n",
        "\n",
        "tokens2 = merge(tokens, top_pair, 256)\n",
        "print(tokens2)\n",
        "print(\"length:\", len(tokens2))"
      ]
    },
    {
      "cell_type": "code",
      "execution_count": 5,
      "metadata": {
        "id": "vd-Evp4qJdNd"
      },
      "outputs": [],
      "source": [
        "text = \"Computer Science is the study of computational systems, algorithms, and the theoretical foundations of information processing. It lies at the heart of nearly every innovation in the modern world, from smartphones and video games to artificial intelligence and space exploration. At its core, computer science revolves around solving problems using logic, mathematics, and programming languages. It encompasses a wide array of disciplines, including software engineering, data structures, machine learning, cybersecurity, computer networks, and human-computer interaction.A computer scientist doesnt just write code—they analyze problems, develop efficient algorithms, and design systems that can perform complex tasks. Whether its building a search engine, developing a real-time translation app, or programming self-driving cars, the tools and techniques of computer science are what make it possible. One of the fields most powerful contributions is abstraction—the ability to take a complex system and break it down into understandable, reusable parts. This skill is what allows computer systems to scale, from small apps to global cloud infrastructures.Moreover, computer science plays a crucial role in shaping the future. Fields like Artificial Intelligence and Machine Learning enable machines to mimic human intelligence and learn from data. Quantum computing promises to revolutionize the way we process information, solving problems that are currently intractable for classical computers. Meanwhile, the rise of blockchain technology introduces decentralized systems that may transform finance, governance, and even identity management. These innovations are made possible through a deep understanding of computer science principles, often combined with domain-specific knowledge.Computer science also emphasizes collaboration, ethics, and impact. Software developers, data scientists, system architects, and cybersecurity experts all work together to create technology that is secure, user-friendly, and beneficial to society. As technology becomes more embedded in our lives, questions around data privacy, algorithmic fairness, and digital accessibility become increasingly important. Modern computer science education therefore includes not just programming and systems design, but also ethics, design thinking, and interdisciplinary problem solving.In education and research, computer science fosters critical thinking, creativity, and innovation. From primary school to postgraduate research, it equips learners with skills to succeed in the digital economy. It is also a highly dynamic field, where new languages, frameworks, and paradigms are constantly emerging. Staying current requires continuous learning, experimentation, and adaptability.In conclusion, computer science is not just about computers—its about ideas. It teaches us how to think, how to solve problems, and how to build systems that improve the world. Whether youre interested in developing apps, exploring artificial intelligence, or understanding how the internet works, computer science offers a gateway into the most exciting challenges and opportunities of the 21st century.\"\n",
        "tokens = text.encode(\"utf-8\")\n",
        "tokens = list(map(int, tokens))"
      ]
    },
    {
      "cell_type": "code",
      "execution_count": 6,
      "metadata": {},
      "outputs": [
        {
          "name": "stdout",
          "output_type": "stream",
          "text": [
            "merging (105, 110) into a new token 256\n",
            "merging (101, 32) into a new token 257\n",
            "merging (115, 32) into a new token 258\n",
            "merging (44, 32) into a new token 259\n",
            "merging (101, 114) into a new token 260\n",
            "merging (97, 110) into a new token 261\n",
            "merging (116, 104) into a new token 262\n",
            "merging (32, 115) into a new token 263\n",
            "merging (101, 110) into a new token 264\n",
            "merging (116, 32) into a new token 265\n",
            "merging (111, 109) into a new token 266\n",
            "merging (116, 105) into a new token 267\n",
            "merging (256, 103) into a new token 268\n",
            "merging (97, 114) into a new token 269\n",
            "merging (100, 32) into a new token 270\n",
            "merging (97, 108) into a new token 271\n",
            "merging (111, 114) into a new token 272\n",
            "merging (111, 110) into a new token 273\n",
            "merging (99, 105) into a new token 274\n",
            "merging (99, 266) into a new token 275\n"
          ]
        }
      ],
      "source": [
        "def get_stats(ids):\n",
        "    counts = {}\n",
        "    for pair in zip(ids, ids[1:]):\n",
        "        counts[pair] = counts.get(pair,0) + 1\n",
        "    return counts\n",
        "\n",
        "def merge(ids, pair, idx):\n",
        "    newids = []\n",
        "    i = 0\n",
        "    while i < len(ids):\n",
        "        if i < len(ids) - 1 and ids[i] == pair[0] and ids[i+1] == pair[1]:\n",
        "            newids.append(idx)\n",
        "            i += 2\n",
        "        else:\n",
        "            newids.append(ids[i])\n",
        "            i += 1\n",
        "    return newids\n",
        "\n",
        "vocab_size = 276\n",
        "num_merges = vocab_size - 256\n",
        "ids = list(tokens)\n",
        "\n",
        "merges = {}\n",
        "for i in range(num_merges):\n",
        "    stats = get_stats(ids)\n",
        "    pair= max(stats, key= stats.get)\n",
        "    idx = 256 + i\n",
        "    print(f\"merging {pair} into a new token {idx}\")\n",
        "    ids = merge(ids, pair, idx)\n",
        "    merges[pair] = idx\n",
        "    "
      ]
    },
    {
      "cell_type": "code",
      "execution_count": 7,
      "metadata": {},
      "outputs": [
        {
          "name": "stdout",
          "output_type": "stream",
          "text": [
            "tokens length: 3172\n",
            "ids length: 2440\n",
            "compressing ratio: 1.30X\n"
          ]
        }
      ],
      "source": [
        "print(\"tokens length:\", len(tokens))\n",
        "print(\"ids length:\", len(ids))\n",
        "print(f\"compressing ratio: {len(tokens) / len(ids):.2f}X\")"
      ]
    }
  ],
  "metadata": {
    "colab": {
      "provenance": []
    },
    "kernelspec": {
      "display_name": "Mechine",
      "language": "python",
      "name": "python3"
    },
    "language_info": {
      "codemirror_mode": {
        "name": "ipython",
        "version": 3
      },
      "file_extension": ".py",
      "mimetype": "text/x-python",
      "name": "python",
      "nbconvert_exporter": "python",
      "pygments_lexer": "ipython3",
      "version": "3.12.4"
    }
  },
  "nbformat": 4,
  "nbformat_minor": 0
}
